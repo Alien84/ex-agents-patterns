{
 "cells": [
  {
   "cell_type": "markdown",
   "id": "35b82253",
   "metadata": {},
   "source": [
    "<span style=\"font-size: 5em\">🦜</span>"
   ]
  },
  {
   "cell_type": "markdown",
   "id": "b201cee5",
   "metadata": {},
   "source": [
    "# __LangGraph Essentials__\n",
    "## Lab 1: States & Nodes"
   ]
  },
  {
   "cell_type": "markdown",
   "id": "07ab35d6-75cf-4d95-9f95-b626945541fb",
   "metadata": {},
   "source": [
    "<img src=\"../assets/States_Nodes.png\" align=\"left\" width=\"600\" style=\"margin-right:15px;\"/>\n"
   ]
  },
  {
   "cell_type": "markdown",
   "id": "1f840b04",
   "metadata": {},
   "source": [
    "LangGraph organizes workflows as graphs where nodes are functions and edges define execution flow. All nodes share a common state that gets passed between them. This notebook shows how to define state, create nodes, and connect them into an executable graph.\n"
   ]
  },
  {
   "cell_type": "code",
   "execution_count": 1,
   "id": "21c48c50-d7a2-4c58-9842-aadad748ba92",
   "metadata": {},
   "outputs": [],
   "source": [
    "from IPython.display import Image, display\n",
    "import operator\n",
    "from typing import Annotated, List, Literal, TypedDict\n",
    "from langgraph.graph import END, START, StateGraph\n",
    "from langgraph.types import Command, interrupt"
   ]
  },
  {
   "cell_type": "markdown",
   "id": "e2a79e3b",
   "metadata": {},
   "source": [
    "<a id='state_definition'></a>"
   ]
  },
  {
   "cell_type": "code",
   "execution_count": 2,
   "id": "3f1c36ae",
   "metadata": {},
   "outputs": [],
   "source": [
    "class State(TypedDict):\n",
    "    nlist: List[str]"
   ]
  },
  {
   "cell_type": "markdown",
   "id": "afc90d3e",
   "metadata": {},
   "source": [
    "<a id='node_function'></a>\n"
   ]
  },
  {
   "cell_type": "code",
   "execution_count": 3,
   "id": "25dcce1c",
   "metadata": {},
   "outputs": [],
   "source": [
    "def node_a(state: State) -> State:\n",
    "    print(f\"node a is receiving {state['nlist']}\")\n",
    "    note = \"Hello World from Node a\"\n",
    "    return(State(nlist = [note]))"
   ]
  },
  {
   "cell_type": "markdown",
   "id": "db2c4b2f",
   "metadata": {},
   "source": [
    "\n",
    "<a id='graph_building'></a>"
   ]
  },
  {
   "cell_type": "code",
   "execution_count": 4,
   "id": "33e5e526",
   "metadata": {},
   "outputs": [],
   "source": [
    "builder = StateGraph(State)\n",
    "builder.add_node(\"a\", node_a)\n",
    "builder.add_edge(START, \"a\")\n",
    "builder.add_edge(\"a\", END)\n",
    "graph = builder.compile()"
   ]
  },
  {
   "cell_type": "code",
   "execution_count": 5,
   "id": "9b005bd7",
   "metadata": {},
   "outputs": [
    {
     "data": {
      "image/png": "[encoded data removed]",
      "text/plain": [
       "<IPython.core.display.Image object>"
      ]
     },
     "metadata": {},
     "output_type": "display_data"
    }
   ],
   "source": [
    "display(Image(graph.get_graph().draw_mermaid_png()))\n",
    "# print(graph.get_graph().draw_mermaid())"
   ]
  },
  {
   "cell_type": "markdown",
   "id": "eb15b34b",
   "metadata": {},
   "source": [
    "<a id='graph_invoke'></a>"
   ]
  },
  {
   "cell_type": "code",
   "execution_count": 6,
   "id": "2365b2ab",
   "metadata": {},
   "outputs": [
    {
     "name": "stdout",
     "output_type": "stream",
     "text": [
      "node a is receiving ['Hello Node a, how are you?']\n"
     ]
    },
    {
     "data": {
      "text/plain": [
       "{'nlist': ['Hello World from Node a']}"
      ]
     },
     "execution_count": 6,
     "metadata": {},
     "output_type": "execute_result"
    }
   ],
   "source": [
    "initial_state = State(\n",
    "    nlist = [\"Hello Node a, how are you?\"]\n",
    ")\n",
    "graph.invoke(initial_state)"
   ]
  },
  {
   "cell_type": "markdown",
   "id": "458d0d58",
   "metadata": {},
   "source": [
    "## Takeaways\n",
    "\n",
    "Setup:\n",
    "\n",
    "- State: All nodes share the same [state](#state_definition) which can be a Python TypedDict, dataclass, or a Pydantic BaseModel\n",
    "- Nodes: Defined as simple [Python functions](#node_function) that receive state as input and return updated state\n",
    "\n",
    "Execution (invoke):\n",
    "\n",
    "- Runtime: When you call [invoke](#graph_invoke), the graph initializes the input state from your invoke statement and determines which nodes to run\n",
    "- State Flow: Each node receives the current state as input, executes its logic, and returns an updated state\n",
    "- Graph Return: After all nodes complete execution, the graph returns the final state value\n",
    "\n",
    "Try Next:\n",
    "\n",
    "- Add another node to the [graph](#graph_building) and connect it with edges\n",
    "- Modify the print statement in the [node function](#node_function) or change the initial state message\n",
    "- Extend the [State TypedDict](#state_definition) with additional fields to pass more data between nodes"
   ]
  }
 ],
 "metadata": {
  "kernelspec": {
   "display_name": "ex-agents-patterns (3.13.7)",
   "language": "python",
   "name": "python3"
  },
  "language_info": {
   "codemirror_mode": {
    "name": "ipython",
    "version": 3
   },
   "file_extension": ".py",
   "mimetype": "text/x-python",
   "name": "python",
   "nbconvert_exporter": "python",
   "pygments_lexer": "ipython3",
   "version": "3.13.7"
  }
 },
 "nbformat": 4,
 "nbformat_minor": 5
}
